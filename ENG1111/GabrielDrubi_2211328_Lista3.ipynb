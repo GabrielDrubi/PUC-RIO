{
  "nbformat": 4,
  "nbformat_minor": 0,
  "metadata": {
    "colab": {
      "provenance": [],
      "collapsed_sections": []
    },
    "kernelspec": {
      "name": "python3",
      "display_name": "Python 3"
    },
    "language_info": {
      "name": "python"
    }
  },
  "cells": [
    {
      "cell_type": "markdown",
      "source": [
        "Nome: Gabriel Pinto Drubi\n",
        "Matricula: 2211328\n",
        "Turma: 33A"
      ],
      "metadata": {
        "id": "Y6qfjUopLGsw"
      }
    },
    {
      "cell_type": "code",
      "execution_count": null,
      "metadata": {
        "id": "v0pmuWsUXRS8"
      },
      "outputs": [],
      "source": [
        "import pandas as pd\n",
        "import numpy as np\n",
        "from google.colab import drive\n",
        "from random import random \n",
        "\n"
      ]
    },
    {
      "cell_type": "markdown",
      "source": [
        "1- Salve a base de dados escolhida no seu drive e importe para um notebook do Colab, criando um Dataframe"
      ],
      "metadata": {
        "id": "iAtkmROGeG6E"
      }
    },
    {
      "cell_type": "code",
      "source": [
        "drive.mount(\"/drive\")\n",
        "titanic = pd.read_csv(\"/drive/MyDrive/titanic/class_titanic.csv\")"
      ],
      "metadata": {
        "id": "b15CcJ7sZLwL"
      },
      "execution_count": null,
      "outputs": []
    },
    {
      "cell_type": "markdown",
      "source": [
        "2- Inspecione as colunas do conjunto de dados (Nome das colunas e tipo de dados)"
      ],
      "metadata": {
        "id": "y2rlG9x_eQtS"
      }
    },
    {
      "cell_type": "code",
      "source": [
        "titanic.info()"
      ],
      "metadata": {
        "colab": {
          "base_uri": "https://localhost:8080/"
        },
        "id": "-wQLYjyIeRdw",
        "outputId": "541d8fa5-71da-4c56-dedc-6eb8005cfdc8"
      },
      "execution_count": null,
      "outputs": [
        {
          "output_type": "stream",
          "name": "stdout",
          "text": [
            "<class 'pandas.core.frame.DataFrame'>\n",
            "RangeIndex: 891 entries, 0 to 890\n",
            "Data columns (total 12 columns):\n",
            " #   Column       Non-Null Count  Dtype  \n",
            "---  ------       --------------  -----  \n",
            " 0   PassengerId  891 non-null    int64  \n",
            " 1   Pclass       891 non-null    int64  \n",
            " 2   Name         891 non-null    object \n",
            " 3   Sex          891 non-null    object \n",
            " 4   Age          714 non-null    float64\n",
            " 5   SibSp        891 non-null    int64  \n",
            " 6   Parch        891 non-null    int64  \n",
            " 7   Ticket       891 non-null    object \n",
            " 8   Fare         891 non-null    float64\n",
            " 9   Cabin        204 non-null    object \n",
            " 10  Embarked     889 non-null    object \n",
            " 11  Survived     891 non-null    int64  \n",
            "dtypes: float64(2), int64(5), object(5)\n",
            "memory usage: 83.7+ KB\n"
          ]
        }
      ]
    },
    {
      "cell_type": "markdown",
      "source": [
        "3- Escolha uma coluna com valores numéricos e apague todas as linhas que possuam valor nulo (OBS: nenhuma colonua tem valores nulos)"
      ],
      "metadata": {
        "id": "T4bWhs95epZM"
      }
    },
    {
      "cell_type": "code",
      "source": [
        "titanic[\"Age\"].dropna(axis=0, inplace=True)\n",
        "titanic.info()"
      ],
      "metadata": {
        "colab": {
          "base_uri": "https://localhost:8080/"
        },
        "id": "WL-bwpl4eqaA",
        "outputId": "e2711df3-56ef-41d5-a95b-6ab924fa368d"
      },
      "execution_count": null,
      "outputs": [
        {
          "output_type": "stream",
          "name": "stdout",
          "text": [
            "<class 'pandas.core.frame.DataFrame'>\n",
            "RangeIndex: 891 entries, 0 to 890\n",
            "Data columns (total 12 columns):\n",
            " #   Column       Non-Null Count  Dtype  \n",
            "---  ------       --------------  -----  \n",
            " 0   PassengerId  891 non-null    int64  \n",
            " 1   Pclass       891 non-null    int64  \n",
            " 2   Name         891 non-null    object \n",
            " 3   Sex          891 non-null    object \n",
            " 4   Age          714 non-null    float64\n",
            " 5   SibSp        891 non-null    int64  \n",
            " 6   Parch        891 non-null    int64  \n",
            " 7   Ticket       891 non-null    object \n",
            " 8   Fare         891 non-null    float64\n",
            " 9   Cabin        204 non-null    object \n",
            " 10  Embarked     889 non-null    object \n",
            " 11  Survived     891 non-null    int64  \n",
            "dtypes: float64(2), int64(5), object(5)\n",
            "memory usage: 83.7+ KB\n"
          ]
        }
      ]
    },
    {
      "cell_type": "markdown",
      "source": [
        "4- Calcule a média desta mesma coluna"
      ],
      "metadata": {
        "id": "zyKNF0jbfSKv"
      }
    },
    {
      "cell_type": "code",
      "source": [
        "media = titanic[\"Age\"].mean()\n",
        "print(media)"
      ],
      "metadata": {
        "colab": {
          "base_uri": "https://localhost:8080/"
        },
        "id": "3P5kSv1cfWe1",
        "outputId": "b078d0de-e716-43df-c3a4-3c264a6a0bb5"
      },
      "execution_count": null,
      "outputs": [
        {
          "output_type": "stream",
          "name": "stdout",
          "text": [
            "29.69911764705882\n"
          ]
        }
      ]
    },
    {
      "cell_type": "markdown",
      "source": [
        "5- Escolha um critério para eliminar as linhas que possuam valores muito distantes da média e crie um novo Dataframe."
      ],
      "metadata": {
        "id": "ogX3-J6JfsU4"
      }
    },
    {
      "cell_type": "code",
      "source": [
        "for i, el in enumerate(titanic[\"Age\"]):\n",
        "  if  abs(el - media) > 5:\n",
        "     titanic.drop([i],inplace=True)\n",
        "titanic.info()"
      ],
      "metadata": {
        "colab": {
          "base_uri": "https://localhost:8080/"
        },
        "id": "mBOAbmAVfs2V",
        "outputId": "ad0bd080-b0c0-4c15-f05f-c3a679dede6e"
      },
      "execution_count": null,
      "outputs": [
        {
          "output_type": "stream",
          "name": "stdout",
          "text": [
            "<class 'pandas.core.frame.DataFrame'>\n",
            "Int64Index: 378 entries, 2 to 890\n",
            "Data columns (total 12 columns):\n",
            " #   Column       Non-Null Count  Dtype  \n",
            "---  ------       --------------  -----  \n",
            " 0   PassengerId  378 non-null    int64  \n",
            " 1   Pclass       378 non-null    int64  \n",
            " 2   Name         378 non-null    object \n",
            " 3   Sex          378 non-null    object \n",
            " 4   Age          201 non-null    float64\n",
            " 5   SibSp        378 non-null    int64  \n",
            " 6   Parch        378 non-null    int64  \n",
            " 7   Ticket       378 non-null    object \n",
            " 8   Fare         378 non-null    float64\n",
            " 9   Cabin        55 non-null     object \n",
            " 10  Embarked     378 non-null    object \n",
            " 11  Survived     378 non-null    int64  \n",
            "dtypes: float64(2), int64(5), object(5)\n",
            "memory usage: 46.5+ KB\n"
          ]
        }
      ]
    },
    {
      "cell_type": "markdown",
      "source": [
        "6- Crie um novo Dataframe que contenha apenas 5 colunas do conjunto anterior."
      ],
      "metadata": {
        "id": "tdrq84WBgVSZ"
      }
    },
    {
      "cell_type": "code",
      "source": [
        "new_titanic = titanic.iloc[:,:5]\n",
        "new_titanic.info()"
      ],
      "metadata": {
        "colab": {
          "base_uri": "https://localhost:8080/"
        },
        "id": "u0MNYdsfgVl6",
        "outputId": "80d57492-3ff9-4e24-b25b-fdd2c7397897"
      },
      "execution_count": null,
      "outputs": [
        {
          "output_type": "stream",
          "name": "stdout",
          "text": [
            "<class 'pandas.core.frame.DataFrame'>\n",
            "Int64Index: 378 entries, 2 to 890\n",
            "Data columns (total 5 columns):\n",
            " #   Column       Non-Null Count  Dtype  \n",
            "---  ------       --------------  -----  \n",
            " 0   PassengerId  378 non-null    int64  \n",
            " 1   Pclass       378 non-null    int64  \n",
            " 2   Name         378 non-null    object \n",
            " 3   Sex          378 non-null    object \n",
            " 4   Age          201 non-null    float64\n",
            "dtypes: float64(1), int64(2), object(2)\n",
            "memory usage: 25.8+ KB\n"
          ]
        }
      ]
    },
    {
      "cell_type": "markdown",
      "source": [
        "7- Escolha duas colunas numéricas e crie uma nova coluna que siga a regra: (Coluna A - Coluna B)*número aleatório (entre 0 e 1)."
      ],
      "metadata": {
        "id": "suhBdo8RgWD4"
      }
    },
    {
      "cell_type": "code",
      "source": [
        "new_titanic.insert(1,\"nova_coluna\",((new_titanic[\"Age\"]-new_titanic[\"Pclass\"])*random()))"
      ],
      "metadata": {
        "id": "RXhGoad5gWWN"
      },
      "execution_count": null,
      "outputs": []
    },
    {
      "cell_type": "markdown",
      "source": [
        "8- Embaralhe aleatoriamente o dataframe (índices e valores)."
      ],
      "metadata": {
        "id": "09WzjP3_gWvZ"
      }
    },
    {
      "cell_type": "code",
      "source": [
        "new_titanic.reindex(np.random.permutation(new_titanic.index))"
      ],
      "metadata": {
        "colab": {
          "base_uri": "https://localhost:8080/",
          "height": 424
        },
        "id": "uM2Jq4h4gX9A",
        "outputId": "36f6e39b-4737-4574-9d8f-16a07d35c92a"
      },
      "execution_count": null,
      "outputs": [
        {
          "output_type": "execute_result",
          "data": {
            "text/plain": [
              "     PassengerId  nova_coluna  Pclass                               Name  \\\n",
              "444          445          NaN       3  Johannesen-Bratthammer, Mr. Bernt   \n",
              "361          362     0.940665       2          del Carlo, Mr. Sebastiano   \n",
              "563          564          NaN       3                  Simmons, Mr. John   \n",
              "488          489     0.940665       3      Somerton, Mr. Francis William   \n",
              "284          285          NaN       1         Smith, Mr. Richard William   \n",
              "..           ...          ...     ...                                ...   \n",
              "322          323     0.975504       2          Slayter, Miss. Hilda Mary   \n",
              "367          368          NaN       3     Moussa, Mrs. (Mantoura Boulos)   \n",
              "636          637     1.010344       3         Leinonen, Mr. Antti Gustaf   \n",
              "619          620     0.836147       2                Gavey, Mr. Lawrence   \n",
              "616          617     1.080023       3          Danbom, Mr. Ernst Gilbert   \n",
              "\n",
              "        Sex   Age  \n",
              "444    male   NaN  \n",
              "361    male  29.0  \n",
              "563    male   NaN  \n",
              "488    male  30.0  \n",
              "284    male   NaN  \n",
              "..      ...   ...  \n",
              "322  female  30.0  \n",
              "367  female   NaN  \n",
              "636    male  32.0  \n",
              "619    male  26.0  \n",
              "616    male  34.0  \n",
              "\n",
              "[378 rows x 6 columns]"
            ],
            "text/html": [
              "\n",
              "  <div id=\"df-d0278917-88f3-4383-a278-18acdea239a3\">\n",
              "    <div class=\"colab-df-container\">\n",
              "      <div>\n",
              "<style scoped>\n",
              "    .dataframe tbody tr th:only-of-type {\n",
              "        vertical-align: middle;\n",
              "    }\n",
              "\n",
              "    .dataframe tbody tr th {\n",
              "        vertical-align: top;\n",
              "    }\n",
              "\n",
              "    .dataframe thead th {\n",
              "        text-align: right;\n",
              "    }\n",
              "</style>\n",
              "<table border=\"1\" class=\"dataframe\">\n",
              "  <thead>\n",
              "    <tr style=\"text-align: right;\">\n",
              "      <th></th>\n",
              "      <th>PassengerId</th>\n",
              "      <th>nova_coluna</th>\n",
              "      <th>Pclass</th>\n",
              "      <th>Name</th>\n",
              "      <th>Sex</th>\n",
              "      <th>Age</th>\n",
              "    </tr>\n",
              "  </thead>\n",
              "  <tbody>\n",
              "    <tr>\n",
              "      <th>444</th>\n",
              "      <td>445</td>\n",
              "      <td>NaN</td>\n",
              "      <td>3</td>\n",
              "      <td>Johannesen-Bratthammer, Mr. Bernt</td>\n",
              "      <td>male</td>\n",
              "      <td>NaN</td>\n",
              "    </tr>\n",
              "    <tr>\n",
              "      <th>361</th>\n",
              "      <td>362</td>\n",
              "      <td>0.940665</td>\n",
              "      <td>2</td>\n",
              "      <td>del Carlo, Mr. Sebastiano</td>\n",
              "      <td>male</td>\n",
              "      <td>29.0</td>\n",
              "    </tr>\n",
              "    <tr>\n",
              "      <th>563</th>\n",
              "      <td>564</td>\n",
              "      <td>NaN</td>\n",
              "      <td>3</td>\n",
              "      <td>Simmons, Mr. John</td>\n",
              "      <td>male</td>\n",
              "      <td>NaN</td>\n",
              "    </tr>\n",
              "    <tr>\n",
              "      <th>488</th>\n",
              "      <td>489</td>\n",
              "      <td>0.940665</td>\n",
              "      <td>3</td>\n",
              "      <td>Somerton, Mr. Francis William</td>\n",
              "      <td>male</td>\n",
              "      <td>30.0</td>\n",
              "    </tr>\n",
              "    <tr>\n",
              "      <th>284</th>\n",
              "      <td>285</td>\n",
              "      <td>NaN</td>\n",
              "      <td>1</td>\n",
              "      <td>Smith, Mr. Richard William</td>\n",
              "      <td>male</td>\n",
              "      <td>NaN</td>\n",
              "    </tr>\n",
              "    <tr>\n",
              "      <th>...</th>\n",
              "      <td>...</td>\n",
              "      <td>...</td>\n",
              "      <td>...</td>\n",
              "      <td>...</td>\n",
              "      <td>...</td>\n",
              "      <td>...</td>\n",
              "    </tr>\n",
              "    <tr>\n",
              "      <th>322</th>\n",
              "      <td>323</td>\n",
              "      <td>0.975504</td>\n",
              "      <td>2</td>\n",
              "      <td>Slayter, Miss. Hilda Mary</td>\n",
              "      <td>female</td>\n",
              "      <td>30.0</td>\n",
              "    </tr>\n",
              "    <tr>\n",
              "      <th>367</th>\n",
              "      <td>368</td>\n",
              "      <td>NaN</td>\n",
              "      <td>3</td>\n",
              "      <td>Moussa, Mrs. (Mantoura Boulos)</td>\n",
              "      <td>female</td>\n",
              "      <td>NaN</td>\n",
              "    </tr>\n",
              "    <tr>\n",
              "      <th>636</th>\n",
              "      <td>637</td>\n",
              "      <td>1.010344</td>\n",
              "      <td>3</td>\n",
              "      <td>Leinonen, Mr. Antti Gustaf</td>\n",
              "      <td>male</td>\n",
              "      <td>32.0</td>\n",
              "    </tr>\n",
              "    <tr>\n",
              "      <th>619</th>\n",
              "      <td>620</td>\n",
              "      <td>0.836147</td>\n",
              "      <td>2</td>\n",
              "      <td>Gavey, Mr. Lawrence</td>\n",
              "      <td>male</td>\n",
              "      <td>26.0</td>\n",
              "    </tr>\n",
              "    <tr>\n",
              "      <th>616</th>\n",
              "      <td>617</td>\n",
              "      <td>1.080023</td>\n",
              "      <td>3</td>\n",
              "      <td>Danbom, Mr. Ernst Gilbert</td>\n",
              "      <td>male</td>\n",
              "      <td>34.0</td>\n",
              "    </tr>\n",
              "  </tbody>\n",
              "</table>\n",
              "<p>378 rows × 6 columns</p>\n",
              "</div>\n",
              "      <button class=\"colab-df-convert\" onclick=\"convertToInteractive('df-d0278917-88f3-4383-a278-18acdea239a3')\"\n",
              "              title=\"Convert this dataframe to an interactive table.\"\n",
              "              style=\"display:none;\">\n",
              "        \n",
              "  <svg xmlns=\"http://www.w3.org/2000/svg\" height=\"24px\"viewBox=\"0 0 24 24\"\n",
              "       width=\"24px\">\n",
              "    <path d=\"M0 0h24v24H0V0z\" fill=\"none\"/>\n",
              "    <path d=\"M18.56 5.44l.94 2.06.94-2.06 2.06-.94-2.06-.94-.94-2.06-.94 2.06-2.06.94zm-11 1L8.5 8.5l.94-2.06 2.06-.94-2.06-.94L8.5 2.5l-.94 2.06-2.06.94zm10 10l.94 2.06.94-2.06 2.06-.94-2.06-.94-.94-2.06-.94 2.06-2.06.94z\"/><path d=\"M17.41 7.96l-1.37-1.37c-.4-.4-.92-.59-1.43-.59-.52 0-1.04.2-1.43.59L10.3 9.45l-7.72 7.72c-.78.78-.78 2.05 0 2.83L4 21.41c.39.39.9.59 1.41.59.51 0 1.02-.2 1.41-.59l7.78-7.78 2.81-2.81c.8-.78.8-2.07 0-2.86zM5.41 20L4 18.59l7.72-7.72 1.47 1.35L5.41 20z\"/>\n",
              "  </svg>\n",
              "      </button>\n",
              "      \n",
              "  <style>\n",
              "    .colab-df-container {\n",
              "      display:flex;\n",
              "      flex-wrap:wrap;\n",
              "      gap: 12px;\n",
              "    }\n",
              "\n",
              "    .colab-df-convert {\n",
              "      background-color: #E8F0FE;\n",
              "      border: none;\n",
              "      border-radius: 50%;\n",
              "      cursor: pointer;\n",
              "      display: none;\n",
              "      fill: #1967D2;\n",
              "      height: 32px;\n",
              "      padding: 0 0 0 0;\n",
              "      width: 32px;\n",
              "    }\n",
              "\n",
              "    .colab-df-convert:hover {\n",
              "      background-color: #E2EBFA;\n",
              "      box-shadow: 0px 1px 2px rgba(60, 64, 67, 0.3), 0px 1px 3px 1px rgba(60, 64, 67, 0.15);\n",
              "      fill: #174EA6;\n",
              "    }\n",
              "\n",
              "    [theme=dark] .colab-df-convert {\n",
              "      background-color: #3B4455;\n",
              "      fill: #D2E3FC;\n",
              "    }\n",
              "\n",
              "    [theme=dark] .colab-df-convert:hover {\n",
              "      background-color: #434B5C;\n",
              "      box-shadow: 0px 1px 3px 1px rgba(0, 0, 0, 0.15);\n",
              "      filter: drop-shadow(0px 1px 2px rgba(0, 0, 0, 0.3));\n",
              "      fill: #FFFFFF;\n",
              "    }\n",
              "  </style>\n",
              "\n",
              "      <script>\n",
              "        const buttonEl =\n",
              "          document.querySelector('#df-d0278917-88f3-4383-a278-18acdea239a3 button.colab-df-convert');\n",
              "        buttonEl.style.display =\n",
              "          google.colab.kernel.accessAllowed ? 'block' : 'none';\n",
              "\n",
              "        async function convertToInteractive(key) {\n",
              "          const element = document.querySelector('#df-d0278917-88f3-4383-a278-18acdea239a3');\n",
              "          const dataTable =\n",
              "            await google.colab.kernel.invokeFunction('convertToInteractive',\n",
              "                                                     [key], {});\n",
              "          if (!dataTable) return;\n",
              "\n",
              "          const docLinkHtml = 'Like what you see? Visit the ' +\n",
              "            '<a target=\"_blank\" href=https://colab.research.google.com/notebooks/data_table.ipynb>data table notebook</a>'\n",
              "            + ' to learn more about interactive tables.';\n",
              "          element.innerHTML = '';\n",
              "          dataTable['output_type'] = 'display_data';\n",
              "          await google.colab.output.renderOutput(dataTable, element);\n",
              "          const docLink = document.createElement('div');\n",
              "          docLink.innerHTML = docLinkHtml;\n",
              "          element.appendChild(docLink);\n",
              "        }\n",
              "      </script>\n",
              "    </div>\n",
              "  </div>\n",
              "  "
            ]
          },
          "metadata": {},
          "execution_count": 27
        }
      ]
    },
    {
      "cell_type": "markdown",
      "source": [
        "9- Ordene o Dataframe seguindo um critério definido por você (Explique o critério)"
      ],
      "metadata": {
        "id": "x0PAzyrJhf27"
      }
    },
    {
      "cell_type": "code",
      "source": [
        "new_titanic = new_titanic.sort_values(by=\"PassengerId\",ascending=True) \n",
        "display(new_titanic)\n",
        "# Criterio: ordena os itens da coluna \"PassengerId\" por ordem crescente"
      ],
      "metadata": {
        "colab": {
          "base_uri": "https://localhost:8080/",
          "height": 424
        },
        "id": "kUsKazTWhgKw",
        "outputId": "bd488c3d-c1a8-4777-a2ad-aba7faa30390"
      },
      "execution_count": null,
      "outputs": [
        {
          "output_type": "display_data",
          "data": {
            "text/plain": [
              "     PassengerId  nova_coluna  Pclass  \\\n",
              "2              3     0.801307       3   \n",
              "5              6          NaN       3   \n",
              "8              9     0.836147       3   \n",
              "17            18          NaN       2   \n",
              "18            19     0.975504       3   \n",
              "..           ...          ...     ...   \n",
              "884          885     0.766468       3   \n",
              "886          887     0.870986       2   \n",
              "888          889          NaN       3   \n",
              "889          890     0.870986       1   \n",
              "890          891     1.010344       3   \n",
              "\n",
              "                                                  Name     Sex   Age  \n",
              "2                               Heikkinen, Miss. Laina  female  26.0  \n",
              "5                                     Moran, Mr. James    male   NaN  \n",
              "8    Johnson, Mrs. Oscar W (Elisabeth Vilhelmina Berg)  female  27.0  \n",
              "17                        Williams, Mr. Charles Eugene    male   NaN  \n",
              "18   Vander Planke, Mrs. Julius (Emelia Maria Vande...  female  31.0  \n",
              "..                                                 ...     ...   ...  \n",
              "884                             Sutehall, Mr. Henry Jr    male  25.0  \n",
              "886                              Montvila, Rev. Juozas    male  27.0  \n",
              "888           Johnston, Miss. Catherine Helen \"Carrie\"  female   NaN  \n",
              "889                              Behr, Mr. Karl Howell    male  26.0  \n",
              "890                                Dooley, Mr. Patrick    male  32.0  \n",
              "\n",
              "[378 rows x 6 columns]"
            ],
            "text/html": [
              "\n",
              "  <div id=\"df-1283c3f5-e6ee-475d-ad20-39c8fa9f5dde\">\n",
              "    <div class=\"colab-df-container\">\n",
              "      <div>\n",
              "<style scoped>\n",
              "    .dataframe tbody tr th:only-of-type {\n",
              "        vertical-align: middle;\n",
              "    }\n",
              "\n",
              "    .dataframe tbody tr th {\n",
              "        vertical-align: top;\n",
              "    }\n",
              "\n",
              "    .dataframe thead th {\n",
              "        text-align: right;\n",
              "    }\n",
              "</style>\n",
              "<table border=\"1\" class=\"dataframe\">\n",
              "  <thead>\n",
              "    <tr style=\"text-align: right;\">\n",
              "      <th></th>\n",
              "      <th>PassengerId</th>\n",
              "      <th>nova_coluna</th>\n",
              "      <th>Pclass</th>\n",
              "      <th>Name</th>\n",
              "      <th>Sex</th>\n",
              "      <th>Age</th>\n",
              "    </tr>\n",
              "  </thead>\n",
              "  <tbody>\n",
              "    <tr>\n",
              "      <th>2</th>\n",
              "      <td>3</td>\n",
              "      <td>0.801307</td>\n",
              "      <td>3</td>\n",
              "      <td>Heikkinen, Miss. Laina</td>\n",
              "      <td>female</td>\n",
              "      <td>26.0</td>\n",
              "    </tr>\n",
              "    <tr>\n",
              "      <th>5</th>\n",
              "      <td>6</td>\n",
              "      <td>NaN</td>\n",
              "      <td>3</td>\n",
              "      <td>Moran, Mr. James</td>\n",
              "      <td>male</td>\n",
              "      <td>NaN</td>\n",
              "    </tr>\n",
              "    <tr>\n",
              "      <th>8</th>\n",
              "      <td>9</td>\n",
              "      <td>0.836147</td>\n",
              "      <td>3</td>\n",
              "      <td>Johnson, Mrs. Oscar W (Elisabeth Vilhelmina Berg)</td>\n",
              "      <td>female</td>\n",
              "      <td>27.0</td>\n",
              "    </tr>\n",
              "    <tr>\n",
              "      <th>17</th>\n",
              "      <td>18</td>\n",
              "      <td>NaN</td>\n",
              "      <td>2</td>\n",
              "      <td>Williams, Mr. Charles Eugene</td>\n",
              "      <td>male</td>\n",
              "      <td>NaN</td>\n",
              "    </tr>\n",
              "    <tr>\n",
              "      <th>18</th>\n",
              "      <td>19</td>\n",
              "      <td>0.975504</td>\n",
              "      <td>3</td>\n",
              "      <td>Vander Planke, Mrs. Julius (Emelia Maria Vande...</td>\n",
              "      <td>female</td>\n",
              "      <td>31.0</td>\n",
              "    </tr>\n",
              "    <tr>\n",
              "      <th>...</th>\n",
              "      <td>...</td>\n",
              "      <td>...</td>\n",
              "      <td>...</td>\n",
              "      <td>...</td>\n",
              "      <td>...</td>\n",
              "      <td>...</td>\n",
              "    </tr>\n",
              "    <tr>\n",
              "      <th>884</th>\n",
              "      <td>885</td>\n",
              "      <td>0.766468</td>\n",
              "      <td>3</td>\n",
              "      <td>Sutehall, Mr. Henry Jr</td>\n",
              "      <td>male</td>\n",
              "      <td>25.0</td>\n",
              "    </tr>\n",
              "    <tr>\n",
              "      <th>886</th>\n",
              "      <td>887</td>\n",
              "      <td>0.870986</td>\n",
              "      <td>2</td>\n",
              "      <td>Montvila, Rev. Juozas</td>\n",
              "      <td>male</td>\n",
              "      <td>27.0</td>\n",
              "    </tr>\n",
              "    <tr>\n",
              "      <th>888</th>\n",
              "      <td>889</td>\n",
              "      <td>NaN</td>\n",
              "      <td>3</td>\n",
              "      <td>Johnston, Miss. Catherine Helen \"Carrie\"</td>\n",
              "      <td>female</td>\n",
              "      <td>NaN</td>\n",
              "    </tr>\n",
              "    <tr>\n",
              "      <th>889</th>\n",
              "      <td>890</td>\n",
              "      <td>0.870986</td>\n",
              "      <td>1</td>\n",
              "      <td>Behr, Mr. Karl Howell</td>\n",
              "      <td>male</td>\n",
              "      <td>26.0</td>\n",
              "    </tr>\n",
              "    <tr>\n",
              "      <th>890</th>\n",
              "      <td>891</td>\n",
              "      <td>1.010344</td>\n",
              "      <td>3</td>\n",
              "      <td>Dooley, Mr. Patrick</td>\n",
              "      <td>male</td>\n",
              "      <td>32.0</td>\n",
              "    </tr>\n",
              "  </tbody>\n",
              "</table>\n",
              "<p>378 rows × 6 columns</p>\n",
              "</div>\n",
              "      <button class=\"colab-df-convert\" onclick=\"convertToInteractive('df-1283c3f5-e6ee-475d-ad20-39c8fa9f5dde')\"\n",
              "              title=\"Convert this dataframe to an interactive table.\"\n",
              "              style=\"display:none;\">\n",
              "        \n",
              "  <svg xmlns=\"http://www.w3.org/2000/svg\" height=\"24px\"viewBox=\"0 0 24 24\"\n",
              "       width=\"24px\">\n",
              "    <path d=\"M0 0h24v24H0V0z\" fill=\"none\"/>\n",
              "    <path d=\"M18.56 5.44l.94 2.06.94-2.06 2.06-.94-2.06-.94-.94-2.06-.94 2.06-2.06.94zm-11 1L8.5 8.5l.94-2.06 2.06-.94-2.06-.94L8.5 2.5l-.94 2.06-2.06.94zm10 10l.94 2.06.94-2.06 2.06-.94-2.06-.94-.94-2.06-.94 2.06-2.06.94z\"/><path d=\"M17.41 7.96l-1.37-1.37c-.4-.4-.92-.59-1.43-.59-.52 0-1.04.2-1.43.59L10.3 9.45l-7.72 7.72c-.78.78-.78 2.05 0 2.83L4 21.41c.39.39.9.59 1.41.59.51 0 1.02-.2 1.41-.59l7.78-7.78 2.81-2.81c.8-.78.8-2.07 0-2.86zM5.41 20L4 18.59l7.72-7.72 1.47 1.35L5.41 20z\"/>\n",
              "  </svg>\n",
              "      </button>\n",
              "      \n",
              "  <style>\n",
              "    .colab-df-container {\n",
              "      display:flex;\n",
              "      flex-wrap:wrap;\n",
              "      gap: 12px;\n",
              "    }\n",
              "\n",
              "    .colab-df-convert {\n",
              "      background-color: #E8F0FE;\n",
              "      border: none;\n",
              "      border-radius: 50%;\n",
              "      cursor: pointer;\n",
              "      display: none;\n",
              "      fill: #1967D2;\n",
              "      height: 32px;\n",
              "      padding: 0 0 0 0;\n",
              "      width: 32px;\n",
              "    }\n",
              "\n",
              "    .colab-df-convert:hover {\n",
              "      background-color: #E2EBFA;\n",
              "      box-shadow: 0px 1px 2px rgba(60, 64, 67, 0.3), 0px 1px 3px 1px rgba(60, 64, 67, 0.15);\n",
              "      fill: #174EA6;\n",
              "    }\n",
              "\n",
              "    [theme=dark] .colab-df-convert {\n",
              "      background-color: #3B4455;\n",
              "      fill: #D2E3FC;\n",
              "    }\n",
              "\n",
              "    [theme=dark] .colab-df-convert:hover {\n",
              "      background-color: #434B5C;\n",
              "      box-shadow: 0px 1px 3px 1px rgba(0, 0, 0, 0.15);\n",
              "      filter: drop-shadow(0px 1px 2px rgba(0, 0, 0, 0.3));\n",
              "      fill: #FFFFFF;\n",
              "    }\n",
              "  </style>\n",
              "\n",
              "      <script>\n",
              "        const buttonEl =\n",
              "          document.querySelector('#df-1283c3f5-e6ee-475d-ad20-39c8fa9f5dde button.colab-df-convert');\n",
              "        buttonEl.style.display =\n",
              "          google.colab.kernel.accessAllowed ? 'block' : 'none';\n",
              "\n",
              "        async function convertToInteractive(key) {\n",
              "          const element = document.querySelector('#df-1283c3f5-e6ee-475d-ad20-39c8fa9f5dde');\n",
              "          const dataTable =\n",
              "            await google.colab.kernel.invokeFunction('convertToInteractive',\n",
              "                                                     [key], {});\n",
              "          if (!dataTable) return;\n",
              "\n",
              "          const docLinkHtml = 'Like what you see? Visit the ' +\n",
              "            '<a target=\"_blank\" href=https://colab.research.google.com/notebooks/data_table.ipynb>data table notebook</a>'\n",
              "            + ' to learn more about interactive tables.';\n",
              "          element.innerHTML = '';\n",
              "          dataTable['output_type'] = 'display_data';\n",
              "          await google.colab.output.renderOutput(dataTable, element);\n",
              "          const docLink = document.createElement('div');\n",
              "          docLink.innerHTML = docLinkHtml;\n",
              "          element.appendChild(docLink);\n",
              "        }\n",
              "      </script>\n",
              "    </div>\n",
              "  </div>\n",
              "  "
            ]
          },
          "metadata": {}
        }
      ]
    },
    {
      "cell_type": "markdown",
      "source": [
        "10- Escolha uma coluna numérica e um coluna com strings e utilize a função Groupby para mostrar os totais da  coluna."
      ],
      "metadata": {
        "id": "7nVs2PVkhhBN"
      }
    },
    {
      "cell_type": "code",
      "source": [
        "num_colunas = new_titanic.groupby(\"Age\")[[\"Name\"]].count()  \n",
        "print(num_colunas)"
      ],
      "metadata": {
        "colab": {
          "base_uri": "https://localhost:8080/"
        },
        "id": "B4tvBPZIhhcW",
        "outputId": "a4df4d50-c6dc-4912-d686-e69b4006834d"
      },
      "execution_count": null,
      "outputs": [
        {
          "output_type": "stream",
          "name": "stdout",
          "text": [
            "       Name\n",
            "Age        \n",
            "100.0    23\n",
            "104.0    18\n",
            "108.0    18\n",
            "112.0    25\n",
            "114.0     2\n",
            "116.0    20\n",
            "120.0    25\n",
            "122.0     2\n",
            "124.0    17\n",
            "128.0    18\n",
            "130.0     2\n",
            "132.0    15\n",
            "136.0    15\n",
            "138.0     1\n"
          ]
        }
      ]
    },
    {
      "cell_type": "markdown",
      "source": [
        "11- Utilize a função MAPS para fazer algum tipo de substituição no Dataframe (explique)"
      ],
      "metadata": {
        "id": "LNuJS5Rihh5L"
      }
    },
    {
      "cell_type": "code",
      "source": [
        "new_titanic[\"Age\"] = new_titanic[\"Age\"].map(lambda n: n*2) \n",
        "# coluna \"Age\" foi teve seus valores multiplicados por 2"
      ],
      "metadata": {
        "id": "Ftem2-3zhiMG"
      },
      "execution_count": null,
      "outputs": []
    },
    {
      "cell_type": "markdown",
      "source": [
        "12- Exporte o último Dataframe para um arquivo CSV e salve no seu drive"
      ],
      "metadata": {
        "id": "acRRwbh9hvfd"
      }
    },
    {
      "cell_type": "code",
      "source": [
        "new_titanic.to_csv(\"/drive/MyDrive/new_titanic.csv\")"
      ],
      "metadata": {
        "id": "9dUa2Nighv7W"
      },
      "execution_count": null,
      "outputs": []
    },
    {
      "cell_type": "markdown",
      "source": [
        "13- Exporte o último Dataframe para um arquivo CSV e salve no seu drive"
      ],
      "metadata": {
        "id": "cAaD6b2lhwQA"
      }
    },
    {
      "cell_type": "code",
      "source": [
        "json = new_titanic.to_json(orient='table')\n",
        "with  open('/drive/MyDrive/new_titanic.json', 'w') as file:\n",
        "  file.write(json)"
      ],
      "metadata": {
        "id": "djENEzPRhxAv"
      },
      "execution_count": null,
      "outputs": []
    }
  ]
}